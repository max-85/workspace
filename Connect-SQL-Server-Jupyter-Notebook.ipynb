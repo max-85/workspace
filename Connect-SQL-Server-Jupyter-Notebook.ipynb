{
 "cells": [
  {
   "cell_type": "code",
   "execution_count": 1,
   "id": "a7aa0f78",
   "metadata": {},
   "outputs": [],
   "source": [
    "#sources\n",
    "\n",
    "#https://stackoverflow.com/questions/56031313/connecting-to-sql-server-via-sql-magics-in-jupyter-lab\n",
    "#https://towardsdatascience.com/jupyter-magics-with-sql-921370099589\n",
    "#https://holypython.com/python-sqlite-tutorial/python-magic-for-sql/"
   ]
  },
  {
   "cell_type": "code",
   "execution_count": 6,
   "id": "fee44976",
   "metadata": {},
   "outputs": [
    {
     "name": "stdout",
     "output_type": "stream",
     "text": [
      "Defaulting to user installation because normal site-packages is not writeable\n",
      "Collecting ipython-sql\n",
      "  Using cached ipython_sql-0.5.0-py3-none-any.whl (20 kB)\n",
      "Requirement already satisfied: six in c:\\programdata\\anaconda3\\lib\\site-packages (from ipython-sql) (1.16.0)\n",
      "Collecting sqlalchemy>=2.0\n",
      "  Downloading SQLAlchemy-2.0.4-cp39-cp39-win_amd64.whl (2.0 MB)\n",
      "Collecting sqlparse\n",
      "  Using cached sqlparse-0.4.3-py3-none-any.whl (42 kB)\n",
      "Requirement already satisfied: ipython-genutils in c:\\programdata\\anaconda3\\lib\\site-packages (from ipython-sql) (0.2.0)\n",
      "Requirement already satisfied: ipython in c:\\programdata\\anaconda3\\lib\\site-packages (from ipython-sql) (8.2.0)\n",
      "Collecting prettytable\n",
      "  Using cached prettytable-3.6.0-py3-none-any.whl (27 kB)\n",
      "Collecting typing-extensions>=4.2.0\n",
      "  Downloading typing_extensions-4.5.0-py3-none-any.whl (27 kB)\n",
      "Requirement already satisfied: greenlet!=0.4.17 in c:\\programdata\\anaconda3\\lib\\site-packages (from sqlalchemy>=2.0->ipython-sql) (1.1.1)\n",
      "Requirement already satisfied: stack-data in c:\\programdata\\anaconda3\\lib\\site-packages (from ipython->ipython-sql) (0.2.0)\n",
      "Requirement already satisfied: traitlets>=5 in c:\\programdata\\anaconda3\\lib\\site-packages (from ipython->ipython-sql) (5.1.1)\n",
      "Requirement already satisfied: jedi>=0.16 in c:\\programdata\\anaconda3\\lib\\site-packages (from ipython->ipython-sql) (0.18.1)\n",
      "Requirement already satisfied: prompt-toolkit!=3.0.0,!=3.0.1,<3.1.0,>=2.0.0 in c:\\programdata\\anaconda3\\lib\\site-packages (from ipython->ipython-sql) (3.0.20)\n",
      "Requirement already satisfied: setuptools>=18.5 in c:\\programdata\\anaconda3\\lib\\site-packages (from ipython->ipython-sql) (61.2.0)\n",
      "Requirement already satisfied: backcall in c:\\programdata\\anaconda3\\lib\\site-packages (from ipython->ipython-sql) (0.2.0)\n",
      "Requirement already satisfied: pygments>=2.4.0 in c:\\programdata\\anaconda3\\lib\\site-packages (from ipython->ipython-sql) (2.11.2)\n",
      "Requirement already satisfied: matplotlib-inline in c:\\programdata\\anaconda3\\lib\\site-packages (from ipython->ipython-sql) (0.1.2)\n",
      "Requirement already satisfied: decorator in c:\\programdata\\anaconda3\\lib\\site-packages (from ipython->ipython-sql) (5.1.1)\n",
      "Requirement already satisfied: pickleshare in c:\\programdata\\anaconda3\\lib\\site-packages (from ipython->ipython-sql) (0.7.5)\n",
      "Requirement already satisfied: colorama in c:\\programdata\\anaconda3\\lib\\site-packages (from ipython->ipython-sql) (0.4.4)\n",
      "Requirement already satisfied: parso<0.9.0,>=0.8.0 in c:\\programdata\\anaconda3\\lib\\site-packages (from jedi>=0.16->ipython->ipython-sql) (0.8.3)\n",
      "Requirement already satisfied: wcwidth in c:\\programdata\\anaconda3\\lib\\site-packages (from prompt-toolkit!=3.0.0,!=3.0.1,<3.1.0,>=2.0.0->ipython->ipython-sql) (0.2.5)\n",
      "Requirement already satisfied: pure-eval in c:\\programdata\\anaconda3\\lib\\site-packages (from stack-data->ipython->ipython-sql) (0.2.2)\n",
      "Requirement already satisfied: executing in c:\\programdata\\anaconda3\\lib\\site-packages (from stack-data->ipython->ipython-sql) (0.8.3)\n",
      "Requirement already satisfied: asttokens in c:\\programdata\\anaconda3\\lib\\site-packages (from stack-data->ipython->ipython-sql) (2.0.5)\n",
      "Installing collected packages: typing-extensions, sqlparse, sqlalchemy, prettytable, ipython-sql\n",
      "Successfully installed ipython-sql-0.5.0 prettytable-3.6.0 sqlalchemy-2.0.4 sqlparse-0.4.3 typing-extensions-4.5.0\n"
     ]
    },
    {
     "name": "stderr",
     "output_type": "stream",
     "text": [
      "  WARNING: The script sqlformat.exe is installed in 'C:\\Users\\Gremmt\\AppData\\Roaming\\Python\\Python39\\Scripts' which is not on PATH.\n",
      "  Consider adding this directory to PATH or, if you prefer to suppress this warning, use --no-warn-script-location.\n"
     ]
    },
    {
     "name": "stdout",
     "output_type": "stream",
     "text": [
      "C:\\ProgramData\\Anaconda3\\python.EXE\n"
     ]
    }
   ],
   "source": [
    "#requirements\n",
    "\n",
    "#!pip install pandas\n",
    "# Data Analytics based on pandas Dataframes\n",
    "#!pip install sqlalchemy\n",
    "# ORM for databases\n",
    "#!pip install pyodbc\n",
    "# ODBC driver dialect utilized by sqlalchemy\n",
    "#!pip install ipython-sql\n",
    "# SQL magic function\n",
    "#!pip install urllib\n",
    "# URL used to build-up connection string\n",
    "\n",
    "!pip install ipython-sql\n",
    "!which python"
   ]
  },
  {
   "cell_type": "code",
   "execution_count": 7,
   "id": "2e9865c4",
   "metadata": {},
   "outputs": [],
   "source": [
    "#source: https://medium.com/analytics-vidhya/postgresql-integration-with-jupyter-notebook-deb97579a38d\n",
    "\n",
    "#initialize iPython SQL magic\n",
    "%load_ext sql\n",
    "\n",
    "#config iPython SQL magic for this session\n",
    "%config SqlMagic.displaylimit=10\n",
    "%config SqlMagic.autolimit=10\n",
    "%config SqlMagic.autopandas=True"
   ]
  },
  {
   "cell_type": "code",
   "execution_count": 8,
   "id": "614cc46d",
   "metadata": {},
   "outputs": [],
   "source": [
    "#build-up connection string\n",
    "#demonstration use case: SQL Server on my local machine (DESKTOP-UVMOR2N) \n",
    "#with database schema.database table = iris.iris_data ([iris].[dbo].[iris_data])\n",
    "#and user=testuser and password=password\n",
    "\n",
    "import urllib\n",
    "\n",
    "connection_str = \"DRIVER={SQL SERVER};SERVER=DESKTOP-UVMOR2N;DATABASE=iris;UID=testuser;PWD=password\"\n",
    "connection_str_quoted = urllib.parse.quote_plus(connection_str)\n",
    "connection_uri = 'mssql+pyodbc:///?odbc_connect={}'.format(connection_str_quoted)\n",
    "\n",
    "# this is how you would connect in sqlalchemy\n",
    "import sqlalchemy\n",
    "conn = sqlalchemy.create_engine(connection_uri)\n",
    "\n",
    "%sql {connection_uri}"
   ]
  },
  {
   "cell_type": "code",
   "execution_count": 9,
   "id": "802f9df5",
   "metadata": {},
   "outputs": [
    {
     "name": "stdout",
     "output_type": "stream",
     "text": [
      " * mssql+pyodbc:///?odbc_connect=DRIVER%3D%7BSQL+SERVER%7D%3BSERVER%3DDESKTOP-UVMOR2N%3BDATABASE%3Diris%3BUID%3Dtestuser%3BPWD%3Dpassword\n",
      "Done.\n"
     ]
    },
    {
     "data": {
      "text/plain": "   id  Sepal.Length  Sepal.Width  Petal.Length  Petal.Width Species  SpeciesId\n0   1           1.0          2.0           3.0          4.0       5          6\n1   2           6.0          5.0           4.0          3.0       2          1",
      "text/html": "<div>\n<style scoped>\n    .dataframe tbody tr th:only-of-type {\n        vertical-align: middle;\n    }\n\n    .dataframe tbody tr th {\n        vertical-align: top;\n    }\n\n    .dataframe thead th {\n        text-align: right;\n    }\n</style>\n<table border=\"1\" class=\"dataframe\">\n  <thead>\n    <tr style=\"text-align: right;\">\n      <th></th>\n      <th>id</th>\n      <th>Sepal.Length</th>\n      <th>Sepal.Width</th>\n      <th>Petal.Length</th>\n      <th>Petal.Width</th>\n      <th>Species</th>\n      <th>SpeciesId</th>\n    </tr>\n  </thead>\n  <tbody>\n    <tr>\n      <th>0</th>\n      <td>1</td>\n      <td>1.0</td>\n      <td>2.0</td>\n      <td>3.0</td>\n      <td>4.0</td>\n      <td>5</td>\n      <td>6</td>\n    </tr>\n    <tr>\n      <th>1</th>\n      <td>2</td>\n      <td>6.0</td>\n      <td>5.0</td>\n      <td>4.0</td>\n      <td>3.0</td>\n      <td>2</td>\n      <td>1</td>\n    </tr>\n  </tbody>\n</table>\n</div>"
     },
     "execution_count": 9,
     "metadata": {},
     "output_type": "execute_result"
    }
   ],
   "source": [
    "#fetch data through open connection with a SELECT statement, which we put into a dataframe (variable df)\n",
    "\n",
    "df = %sql SELECT * FROM dbo.iris_data\n",
    "df"
   ]
  },
  {
   "cell_type": "code",
   "execution_count": 10,
   "id": "204b2865",
   "metadata": {},
   "outputs": [
    {
     "data": {
      "text/plain": "             id  Sepal.Length  Sepal.Width  Petal.Length  Petal.Width  \\\ncount  2.000000      2.000000      2.00000      2.000000     2.000000   \nmean   1.500000      3.500000      3.50000      3.500000     3.500000   \nstd    0.707107      3.535534      2.12132      0.707107     0.707107   \nmin    1.000000      1.000000      2.00000      3.000000     3.000000   \n25%    1.250000      2.250000      2.75000      3.250000     3.250000   \n50%    1.500000      3.500000      3.50000      3.500000     3.500000   \n75%    1.750000      4.750000      4.25000      3.750000     3.750000   \nmax    2.000000      6.000000      5.00000      4.000000     4.000000   \n\n       SpeciesId  \ncount   2.000000  \nmean    3.500000  \nstd     3.535534  \nmin     1.000000  \n25%     2.250000  \n50%     3.500000  \n75%     4.750000  \nmax     6.000000  ",
      "text/html": "<div>\n<style scoped>\n    .dataframe tbody tr th:only-of-type {\n        vertical-align: middle;\n    }\n\n    .dataframe tbody tr th {\n        vertical-align: top;\n    }\n\n    .dataframe thead th {\n        text-align: right;\n    }\n</style>\n<table border=\"1\" class=\"dataframe\">\n  <thead>\n    <tr style=\"text-align: right;\">\n      <th></th>\n      <th>id</th>\n      <th>Sepal.Length</th>\n      <th>Sepal.Width</th>\n      <th>Petal.Length</th>\n      <th>Petal.Width</th>\n      <th>SpeciesId</th>\n    </tr>\n  </thead>\n  <tbody>\n    <tr>\n      <th>count</th>\n      <td>2.000000</td>\n      <td>2.000000</td>\n      <td>2.00000</td>\n      <td>2.000000</td>\n      <td>2.000000</td>\n      <td>2.000000</td>\n    </tr>\n    <tr>\n      <th>mean</th>\n      <td>1.500000</td>\n      <td>3.500000</td>\n      <td>3.50000</td>\n      <td>3.500000</td>\n      <td>3.500000</td>\n      <td>3.500000</td>\n    </tr>\n    <tr>\n      <th>std</th>\n      <td>0.707107</td>\n      <td>3.535534</td>\n      <td>2.12132</td>\n      <td>0.707107</td>\n      <td>0.707107</td>\n      <td>3.535534</td>\n    </tr>\n    <tr>\n      <th>min</th>\n      <td>1.000000</td>\n      <td>1.000000</td>\n      <td>2.00000</td>\n      <td>3.000000</td>\n      <td>3.000000</td>\n      <td>1.000000</td>\n    </tr>\n    <tr>\n      <th>25%</th>\n      <td>1.250000</td>\n      <td>2.250000</td>\n      <td>2.75000</td>\n      <td>3.250000</td>\n      <td>3.250000</td>\n      <td>2.250000</td>\n    </tr>\n    <tr>\n      <th>50%</th>\n      <td>1.500000</td>\n      <td>3.500000</td>\n      <td>3.50000</td>\n      <td>3.500000</td>\n      <td>3.500000</td>\n      <td>3.500000</td>\n    </tr>\n    <tr>\n      <th>75%</th>\n      <td>1.750000</td>\n      <td>4.750000</td>\n      <td>4.25000</td>\n      <td>3.750000</td>\n      <td>3.750000</td>\n      <td>4.750000</td>\n    </tr>\n    <tr>\n      <th>max</th>\n      <td>2.000000</td>\n      <td>6.000000</td>\n      <td>5.00000</td>\n      <td>4.000000</td>\n      <td>4.000000</td>\n      <td>6.000000</td>\n    </tr>\n  </tbody>\n</table>\n</div>"
     },
     "execution_count": 10,
     "metadata": {},
     "output_type": "execute_result"
    }
   ],
   "source": [
    "#you could work further with Dataframe df using pandas commands\n",
    "\n",
    "import pandas as pd\n",
    "\n",
    "df.describe()"
   ]
  },
  {
   "cell_type": "code",
   "execution_count": 11,
   "id": "a484bbda",
   "metadata": {},
   "outputs": [
    {
     "name": "stdout",
     "output_type": "stream",
     "text": [
      "{'mssql+pyodbc:///?odbc_connect=DRIVER%3D%7BSQL+SERVER%7D%3BSERVER%3DDESKTOP-UVMOR2N%3BDATABASE%3Diris%3BUID%3Dtestuser%3BPWD%3Dpassword': <sql.connection.Connection object at 0x0000017C85E67B50>}\n"
     ]
    }
   ],
   "source": [
    "#be kind: please close your still open database connection after you are done with your analysis\n",
    "#therefore, we fetch the connection name String\n",
    "\n",
    "conn = %sql l / --connections\n",
    "\n",
    "print(conn)"
   ]
  },
  {
   "cell_type": "code",
   "execution_count": 12,
   "id": "8fc99176",
   "metadata": {},
   "outputs": [],
   "source": [
    "#..and close the connection\n",
    "\n",
    "#%sql -x / --close \"connection name\"\n",
    "%sql -x / --close {'mssql+pyodbc:///?odbc_connect=DRIVER%3D%7BSQL+SERVER%7D%3BSERVER%3DDESKTOP-UVMOR2N%3BDATABASE%3Diris%3BUID%3Dtestuser%3BPWD%3Dpassword'}\n"
   ]
  },
  {
   "cell_type": "code",
   "execution_count": 13,
   "id": "2a5ecc71",
   "metadata": {},
   "outputs": [
    {
     "name": "stdout",
     "output_type": "stream",
     "text": [
      "{}\n"
     ]
    }
   ],
   "source": [
    "conn = %sql l / --connections\n",
    "\n",
    "print(conn)"
   ]
  },
  {
   "cell_type": "code",
   "execution_count": null,
   "id": "c48b7fd0",
   "metadata": {},
   "outputs": [],
   "source": []
  }
 ],
 "metadata": {
  "kernelspec": {
   "display_name": "Python 3 (ipykernel)",
   "language": "python",
   "name": "python3"
  },
  "language_info": {
   "codemirror_mode": {
    "name": "ipython",
    "version": 3
   },
   "file_extension": ".py",
   "mimetype": "text/x-python",
   "name": "python",
   "nbconvert_exporter": "python",
   "pygments_lexer": "ipython3",
   "version": "3.9.12"
  }
 },
 "nbformat": 4,
 "nbformat_minor": 5
}
